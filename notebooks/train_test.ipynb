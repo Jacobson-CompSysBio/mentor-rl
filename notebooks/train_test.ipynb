{
 "cells": [
  {
   "cell_type": "code",
   "execution_count": 1,
   "metadata": {},
   "outputs": [],
   "source": [
    "# imports \n",
    "import random\n",
    "import copy\n",
    "import re\n",
    "import os\n",
    "import sys\n",
    "import numpy as np\n",
    "import wandb\n",
    "from dotenv import load_dotenv\n",
    "\n",
    "import torch\n",
    "import torch.nn as nn\n",
    "import torch.nn.functional as F\n",
    "from torch.nn.utils.rnn import pad_sequence\n",
    "\n",
    "from transformers import AutoModelForCausalLM, AutoTokenizer\n",
    "from datasets import load_dataset\n",
    "\n",
    "sys.path.append('../')\n",
    "\n",
    "from utils.dataset import *\n"
   ]
  },
  {
   "cell_type": "code",
   "execution_count": 2,
   "metadata": {},
   "outputs": [],
   "source": [
    "dataset = BasicEdgePredDataset('../data/test')"
   ]
  },
  {
   "cell_type": "code",
   "execution_count": 3,
   "metadata": {},
   "outputs": [
    {
     "data": {
      "text/plain": [
       "{'id': 0,\n",
       " 'question': 'Is there an edge between nodes 5 and 7?',\n",
       " 'answer': 'no',\n",
       " 'desc': 'Consider the graph with the following edges: G1 is associated with G2, G1 is associated with G3, G1 is associated with G4, G1 is associated with G5, G2 is associated with G6, G2 is associated with G8, G3 is associated with G4, G3 is associated with G7, G3 is associated with G10, G4 is associated with G7, G4 is associated with G10, G6 is associated with G8, G9 is associated with G10, node_id 0 is G1, node_id 1 is G10, node_id 2 is G2, node_id 3 is G3, node_id 4 is G4, node_id 5 is G5, node_id 6 is G6, node_id 7 is G7, node_id 8 is G8, node_id 9 is G9, layer 0 is from coexpression-heart'}"
      ]
     },
     "execution_count": 3,
     "metadata": {},
     "output_type": "execute_result"
    }
   ],
   "source": [
    "dataset[0]"
   ]
  }
 ],
 "metadata": {
  "kernelspec": {
   "display_name": "rag",
   "language": "python",
   "name": "python3"
  },
  "language_info": {
   "codemirror_mode": {
    "name": "ipython",
    "version": 3
   },
   "file_extension": ".py",
   "mimetype": "text/x-python",
   "name": "python",
   "nbconvert_exporter": "python",
   "pygments_lexer": "ipython3",
   "version": "3.12.7"
  }
 },
 "nbformat": 4,
 "nbformat_minor": 2
}
